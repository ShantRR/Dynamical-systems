{
 "cells": [
  {
   "cell_type": "code",
   "execution_count": 1,
   "id": "6139fd9d",
   "metadata": {},
   "outputs": [],
   "source": [
    "import numpy as np"
   ]
  },
  {
   "cell_type": "code",
   "execution_count": 21,
   "id": "c52b2ab6",
   "metadata": {},
   "outputs": [],
   "source": [
    "def logistic_map_rec(λ,x_0,n):\n",
    "    if n == 0:\n",
    "        return x_0\n",
    "    else:\n",
    "        x = λ * x_0 * (1 - x_0)\n",
    "        return logistic_map(λ,x,n-1)\n",
    "\n",
    "def logistic_map(λ,x_0):\n",
    "    x = λ * x_0 * (1 - x_0)\n",
    "    return x\n",
    "\n",
    "\n",
    "def logistic_map_seq(λ,x_0,n):\n",
    "    x_s = [x_0]\n",
    "    \n",
    "    for i in range(n-1):\n",
    "        x_s.append(logistic_map(λ,x_s[i]))\n",
    "    return x_s"
   ]
  },
  {
   "cell_type": "code",
   "execution_count": 28,
   "id": "db816f99",
   "metadata": {},
   "outputs": [
    {
     "name": "stdout",
     "output_type": "stream",
     "text": [
      "0.33333333333333337\n"
     ]
    },
    {
     "data": {
      "text/plain": [
       "[0.5,\n",
       " 0.375,\n",
       " 0.3515625,\n",
       " 0.341949462890625,\n",
       " 0.3375300415791571,\n",
       " 0.3354052689160944,\n",
       " 0.33436286174912516,\n",
       " 0.3338465076480908,\n",
       " 0.33358952546889614,\n",
       " 0.3334613309494993,\n",
       " 0.3333973075663317,\n",
       " 0.33336531431077876,\n",
       " 0.3333493222878816,\n",
       " 0.33334132742713746,\n",
       " 0.33333733028437706,\n",
       " 0.33333533178489183,\n",
       " 0.33333433255312184,\n",
       " 0.33333383294172997,\n",
       " 0.3333335831371573,\n",
       " 0.33333345823515165,\n",
       " 0.33333339578421906,\n",
       " 0.33333336455877033,\n",
       " 0.3333333489460503,\n",
       " 0.33333334113969143,\n",
       " 0.33333333723651226,\n",
       " 0.3333333352849228,\n",
       " 0.3333333343091281,\n",
       " 0.33333333382123076,\n",
       " 0.33333333357728206,\n",
       " 0.33333333345530763,\n",
       " 0.3333333333943204,\n",
       " 0.3333333333638268,\n",
       " 0.33333333334858,\n",
       " 0.3333333333409567,\n",
       " 0.33333333333714504,\n",
       " 0.3333333333352391,\n",
       " 0.3333333333342863,\n",
       " 0.3333333333338098,\n",
       " 0.3333333333335716,\n",
       " 0.3333333333334525,\n",
       " 0.33333333333339293,\n",
       " 0.33333333333336307,\n",
       " 0.33333333333334825,\n",
       " 0.3333333333333408,\n",
       " 0.3333333333333371,\n",
       " 0.33333333333333526,\n",
       " 0.3333333333333343,\n",
       " 0.33333333333333376,\n",
       " 0.3333333333333336,\n",
       " 0.3333333333333335]"
      ]
     },
     "execution_count": 28,
     "metadata": {},
     "output_type": "execute_result"
    }
   ],
   "source": [
    "n = 50\n",
    "λ = 1.5\n",
    "x_0 = 0.5\n",
    "\n",
    "x_f_1 = 0\n",
    "x_f_2 = 1-1/λ\n",
    "print(x_f_2)\n",
    "\n",
    "logistic_map_seq(λ,x_0,n)\n"
   ]
  },
  {
   "cell_type": "code",
   "execution_count": null,
   "id": "8739c084",
   "metadata": {},
   "outputs": [],
   "source": []
  }
 ],
 "metadata": {
  "kernelspec": {
   "display_name": "Python 3 (ipykernel)",
   "language": "python",
   "name": "python3"
  },
  "language_info": {
   "codemirror_mode": {
    "name": "ipython",
    "version": 3
   },
   "file_extension": ".py",
   "mimetype": "text/x-python",
   "name": "python",
   "nbconvert_exporter": "python",
   "pygments_lexer": "ipython3",
   "version": "3.11.4"
  }
 },
 "nbformat": 4,
 "nbformat_minor": 5
}
